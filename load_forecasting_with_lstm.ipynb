{
  "cells": [
    {
      "cell_type": "markdown",
      "metadata": {
        "id": "view-in-github",
        "colab_type": "text"
      },
      "source": [
        "<a href=\"https://colab.research.google.com/github/Tongue923/Load_forecasting/blob/main/load_forecasting_with_lstm.ipynb\" target=\"_parent\"><img src=\"https://colab.research.google.com/assets/colab-badge.svg\" alt=\"Open In Colab\"/></a>"
      ]
    },
    {
      "cell_type": "markdown",
      "source": [
        "# Mount the drive\n"
      ],
      "metadata": {
        "id": "giAtiZJcK5ud"
      }
    },
    {
      "cell_type": "code",
      "execution_count": null,
      "metadata": {
        "colab": {
          "base_uri": "https://localhost:8080/"
        },
        "id": "UrSgmJpyd4_l",
        "outputId": "8c224af5-8724-4177-91f7-83bb569ccb8a"
      },
      "outputs": [
        {
          "output_type": "stream",
          "name": "stdout",
          "text": [
            "Mounted at /content/drive\n"
          ]
        }
      ],
      "source": [
        "from google.colab import drive\n",
        "drive.mount('/content/drive')\n"
      ]
    },
    {
      "cell_type": "markdown",
      "source": [
        "# Import data from google drive\n",
        "\n"
      ],
      "metadata": {
        "id": "aYoCvITDE4Pq"
      }
    },
    {
      "cell_type": "code",
      "execution_count": null,
      "metadata": {
        "id": "xCNmkA8UeHJf"
      },
      "outputs": [],
      "source": [
        "ROOT_DIR = '/content/drive/My Drive/fyp'\n"
      ]
    },
    {
      "cell_type": "code",
      "execution_count": null,
      "metadata": {
        "id": "MLf_tlnAZeFu"
      },
      "outputs": [],
      "source": [
        "import pandas as pd\n",
        "\n",
        "data = pd.read_excel(f\"{ROOT_DIR}/data/malaysia_all_data_for_paper.xlsx\" )\n"
      ]
    },
    {
      "cell_type": "code",
      "source": [
        "data"
      ],
      "metadata": {
        "colab": {
          "base_uri": "https://localhost:8080/",
          "height": 424
        },
        "id": "kRZuHpcFNwwy",
        "outputId": "efcfba3b-2b8c-43d7-a39f-ce711dcd0e66"
      },
      "execution_count": null,
      "outputs": [
        {
          "output_type": "execute_result",
          "data": {
            "text/plain": [
              "            date      time  temperature humidity  holiday   load\n",
              "0     2009-01-01  01:00:00           24      100        0  30360\n",
              "1     2009-01-01  02:00:00           24      100        0  29155\n",
              "2     2009-01-01  03:00:00           24      94         0  28086\n",
              "3     2009-01-01  04:00:00           24      94         0  28031\n",
              "4     2009-01-01  05:00:00           24      94         0  27730\n",
              "...          ...       ...          ...      ...      ...    ...\n",
              "17515 2010-12-31  20:00:00           26      89         0  53819\n",
              "17516 2010-12-31  21:00:00           26      83         0  51543\n",
              "17517 2010-12-31  22:00:00           25      89         0  44961\n",
              "17518 2010-12-31  23:00:00           24      94         0  38484\n",
              "17519 2011-01-01  00:00:00           24      94         1  36729\n",
              "\n",
              "[17520 rows x 6 columns]"
            ],
            "text/html": [
              "\n",
              "  <div id=\"df-8f971644-3b8f-41b8-a96f-aae067175eb1\" class=\"colab-df-container\">\n",
              "    <div>\n",
              "<style scoped>\n",
              "    .dataframe tbody tr th:only-of-type {\n",
              "        vertical-align: middle;\n",
              "    }\n",
              "\n",
              "    .dataframe tbody tr th {\n",
              "        vertical-align: top;\n",
              "    }\n",
              "\n",
              "    .dataframe thead th {\n",
              "        text-align: right;\n",
              "    }\n",
              "</style>\n",
              "<table border=\"1\" class=\"dataframe\">\n",
              "  <thead>\n",
              "    <tr style=\"text-align: right;\">\n",
              "      <th></th>\n",
              "      <th>date</th>\n",
              "      <th>time</th>\n",
              "      <th>temperature</th>\n",
              "      <th>humidity</th>\n",
              "      <th>holiday</th>\n",
              "      <th>load</th>\n",
              "    </tr>\n",
              "  </thead>\n",
              "  <tbody>\n",
              "    <tr>\n",
              "      <th>0</th>\n",
              "      <td>2009-01-01</td>\n",
              "      <td>01:00:00</td>\n",
              "      <td>24</td>\n",
              "      <td>100</td>\n",
              "      <td>0</td>\n",
              "      <td>30360</td>\n",
              "    </tr>\n",
              "    <tr>\n",
              "      <th>1</th>\n",
              "      <td>2009-01-01</td>\n",
              "      <td>02:00:00</td>\n",
              "      <td>24</td>\n",
              "      <td>100</td>\n",
              "      <td>0</td>\n",
              "      <td>29155</td>\n",
              "    </tr>\n",
              "    <tr>\n",
              "      <th>2</th>\n",
              "      <td>2009-01-01</td>\n",
              "      <td>03:00:00</td>\n",
              "      <td>24</td>\n",
              "      <td>94</td>\n",
              "      <td>0</td>\n",
              "      <td>28086</td>\n",
              "    </tr>\n",
              "    <tr>\n",
              "      <th>3</th>\n",
              "      <td>2009-01-01</td>\n",
              "      <td>04:00:00</td>\n",
              "      <td>24</td>\n",
              "      <td>94</td>\n",
              "      <td>0</td>\n",
              "      <td>28031</td>\n",
              "    </tr>\n",
              "    <tr>\n",
              "      <th>4</th>\n",
              "      <td>2009-01-01</td>\n",
              "      <td>05:00:00</td>\n",
              "      <td>24</td>\n",
              "      <td>94</td>\n",
              "      <td>0</td>\n",
              "      <td>27730</td>\n",
              "    </tr>\n",
              "    <tr>\n",
              "      <th>...</th>\n",
              "      <td>...</td>\n",
              "      <td>...</td>\n",
              "      <td>...</td>\n",
              "      <td>...</td>\n",
              "      <td>...</td>\n",
              "      <td>...</td>\n",
              "    </tr>\n",
              "    <tr>\n",
              "      <th>17515</th>\n",
              "      <td>2010-12-31</td>\n",
              "      <td>20:00:00</td>\n",
              "      <td>26</td>\n",
              "      <td>89</td>\n",
              "      <td>0</td>\n",
              "      <td>53819</td>\n",
              "    </tr>\n",
              "    <tr>\n",
              "      <th>17516</th>\n",
              "      <td>2010-12-31</td>\n",
              "      <td>21:00:00</td>\n",
              "      <td>26</td>\n",
              "      <td>83</td>\n",
              "      <td>0</td>\n",
              "      <td>51543</td>\n",
              "    </tr>\n",
              "    <tr>\n",
              "      <th>17517</th>\n",
              "      <td>2010-12-31</td>\n",
              "      <td>22:00:00</td>\n",
              "      <td>25</td>\n",
              "      <td>89</td>\n",
              "      <td>0</td>\n",
              "      <td>44961</td>\n",
              "    </tr>\n",
              "    <tr>\n",
              "      <th>17518</th>\n",
              "      <td>2010-12-31</td>\n",
              "      <td>23:00:00</td>\n",
              "      <td>24</td>\n",
              "      <td>94</td>\n",
              "      <td>0</td>\n",
              "      <td>38484</td>\n",
              "    </tr>\n",
              "    <tr>\n",
              "      <th>17519</th>\n",
              "      <td>2011-01-01</td>\n",
              "      <td>00:00:00</td>\n",
              "      <td>24</td>\n",
              "      <td>94</td>\n",
              "      <td>1</td>\n",
              "      <td>36729</td>\n",
              "    </tr>\n",
              "  </tbody>\n",
              "</table>\n",
              "<p>17520 rows × 6 columns</p>\n",
              "</div>\n",
              "    <div class=\"colab-df-buttons\">\n",
              "\n",
              "  <div class=\"colab-df-container\">\n",
              "    <button class=\"colab-df-convert\" onclick=\"convertToInteractive('df-8f971644-3b8f-41b8-a96f-aae067175eb1')\"\n",
              "            title=\"Convert this dataframe to an interactive table.\"\n",
              "            style=\"display:none;\">\n",
              "\n",
              "  <svg xmlns=\"http://www.w3.org/2000/svg\" height=\"24px\" viewBox=\"0 -960 960 960\">\n",
              "    <path d=\"M120-120v-720h720v720H120Zm60-500h600v-160H180v160Zm220 220h160v-160H400v160Zm0 220h160v-160H400v160ZM180-400h160v-160H180v160Zm440 0h160v-160H620v160ZM180-180h160v-160H180v160Zm440 0h160v-160H620v160Z\"/>\n",
              "  </svg>\n",
              "    </button>\n",
              "\n",
              "  <style>\n",
              "    .colab-df-container {\n",
              "      display:flex;\n",
              "      gap: 12px;\n",
              "    }\n",
              "\n",
              "    .colab-df-convert {\n",
              "      background-color: #E8F0FE;\n",
              "      border: none;\n",
              "      border-radius: 50%;\n",
              "      cursor: pointer;\n",
              "      display: none;\n",
              "      fill: #1967D2;\n",
              "      height: 32px;\n",
              "      padding: 0 0 0 0;\n",
              "      width: 32px;\n",
              "    }\n",
              "\n",
              "    .colab-df-convert:hover {\n",
              "      background-color: #E2EBFA;\n",
              "      box-shadow: 0px 1px 2px rgba(60, 64, 67, 0.3), 0px 1px 3px 1px rgba(60, 64, 67, 0.15);\n",
              "      fill: #174EA6;\n",
              "    }\n",
              "\n",
              "    .colab-df-buttons div {\n",
              "      margin-bottom: 4px;\n",
              "    }\n",
              "\n",
              "    [theme=dark] .colab-df-convert {\n",
              "      background-color: #3B4455;\n",
              "      fill: #D2E3FC;\n",
              "    }\n",
              "\n",
              "    [theme=dark] .colab-df-convert:hover {\n",
              "      background-color: #434B5C;\n",
              "      box-shadow: 0px 1px 3px 1px rgba(0, 0, 0, 0.15);\n",
              "      filter: drop-shadow(0px 1px 2px rgba(0, 0, 0, 0.3));\n",
              "      fill: #FFFFFF;\n",
              "    }\n",
              "  </style>\n",
              "\n",
              "    <script>\n",
              "      const buttonEl =\n",
              "        document.querySelector('#df-8f971644-3b8f-41b8-a96f-aae067175eb1 button.colab-df-convert');\n",
              "      buttonEl.style.display =\n",
              "        google.colab.kernel.accessAllowed ? 'block' : 'none';\n",
              "\n",
              "      async function convertToInteractive(key) {\n",
              "        const element = document.querySelector('#df-8f971644-3b8f-41b8-a96f-aae067175eb1');\n",
              "        const dataTable =\n",
              "          await google.colab.kernel.invokeFunction('convertToInteractive',\n",
              "                                                    [key], {});\n",
              "        if (!dataTable) return;\n",
              "\n",
              "        const docLinkHtml = 'Like what you see? Visit the ' +\n",
              "          '<a target=\"_blank\" href=https://colab.research.google.com/notebooks/data_table.ipynb>data table notebook</a>'\n",
              "          + ' to learn more about interactive tables.';\n",
              "        element.innerHTML = '';\n",
              "        dataTable['output_type'] = 'display_data';\n",
              "        await google.colab.output.renderOutput(dataTable, element);\n",
              "        const docLink = document.createElement('div');\n",
              "        docLink.innerHTML = docLinkHtml;\n",
              "        element.appendChild(docLink);\n",
              "      }\n",
              "    </script>\n",
              "  </div>\n",
              "\n",
              "\n",
              "<div id=\"df-a490a992-417b-4c9b-b22a-1c655baffb4f\">\n",
              "  <button class=\"colab-df-quickchart\" onclick=\"quickchart('df-a490a992-417b-4c9b-b22a-1c655baffb4f')\"\n",
              "            title=\"Suggest charts\"\n",
              "            style=\"display:none;\">\n",
              "\n",
              "<svg xmlns=\"http://www.w3.org/2000/svg\" height=\"24px\"viewBox=\"0 0 24 24\"\n",
              "     width=\"24px\">\n",
              "    <g>\n",
              "        <path d=\"M19 3H5c-1.1 0-2 .9-2 2v14c0 1.1.9 2 2 2h14c1.1 0 2-.9 2-2V5c0-1.1-.9-2-2-2zM9 17H7v-7h2v7zm4 0h-2V7h2v10zm4 0h-2v-4h2v4z\"/>\n",
              "    </g>\n",
              "</svg>\n",
              "  </button>\n",
              "\n",
              "<style>\n",
              "  .colab-df-quickchart {\n",
              "      --bg-color: #E8F0FE;\n",
              "      --fill-color: #1967D2;\n",
              "      --hover-bg-color: #E2EBFA;\n",
              "      --hover-fill-color: #174EA6;\n",
              "      --disabled-fill-color: #AAA;\n",
              "      --disabled-bg-color: #DDD;\n",
              "  }\n",
              "\n",
              "  [theme=dark] .colab-df-quickchart {\n",
              "      --bg-color: #3B4455;\n",
              "      --fill-color: #D2E3FC;\n",
              "      --hover-bg-color: #434B5C;\n",
              "      --hover-fill-color: #FFFFFF;\n",
              "      --disabled-bg-color: #3B4455;\n",
              "      --disabled-fill-color: #666;\n",
              "  }\n",
              "\n",
              "  .colab-df-quickchart {\n",
              "    background-color: var(--bg-color);\n",
              "    border: none;\n",
              "    border-radius: 50%;\n",
              "    cursor: pointer;\n",
              "    display: none;\n",
              "    fill: var(--fill-color);\n",
              "    height: 32px;\n",
              "    padding: 0;\n",
              "    width: 32px;\n",
              "  }\n",
              "\n",
              "  .colab-df-quickchart:hover {\n",
              "    background-color: var(--hover-bg-color);\n",
              "    box-shadow: 0 1px 2px rgba(60, 64, 67, 0.3), 0 1px 3px 1px rgba(60, 64, 67, 0.15);\n",
              "    fill: var(--button-hover-fill-color);\n",
              "  }\n",
              "\n",
              "  .colab-df-quickchart-complete:disabled,\n",
              "  .colab-df-quickchart-complete:disabled:hover {\n",
              "    background-color: var(--disabled-bg-color);\n",
              "    fill: var(--disabled-fill-color);\n",
              "    box-shadow: none;\n",
              "  }\n",
              "\n",
              "  .colab-df-spinner {\n",
              "    border: 2px solid var(--fill-color);\n",
              "    border-color: transparent;\n",
              "    border-bottom-color: var(--fill-color);\n",
              "    animation:\n",
              "      spin 1s steps(1) infinite;\n",
              "  }\n",
              "\n",
              "  @keyframes spin {\n",
              "    0% {\n",
              "      border-color: transparent;\n",
              "      border-bottom-color: var(--fill-color);\n",
              "      border-left-color: var(--fill-color);\n",
              "    }\n",
              "    20% {\n",
              "      border-color: transparent;\n",
              "      border-left-color: var(--fill-color);\n",
              "      border-top-color: var(--fill-color);\n",
              "    }\n",
              "    30% {\n",
              "      border-color: transparent;\n",
              "      border-left-color: var(--fill-color);\n",
              "      border-top-color: var(--fill-color);\n",
              "      border-right-color: var(--fill-color);\n",
              "    }\n",
              "    40% {\n",
              "      border-color: transparent;\n",
              "      border-right-color: var(--fill-color);\n",
              "      border-top-color: var(--fill-color);\n",
              "    }\n",
              "    60% {\n",
              "      border-color: transparent;\n",
              "      border-right-color: var(--fill-color);\n",
              "    }\n",
              "    80% {\n",
              "      border-color: transparent;\n",
              "      border-right-color: var(--fill-color);\n",
              "      border-bottom-color: var(--fill-color);\n",
              "    }\n",
              "    90% {\n",
              "      border-color: transparent;\n",
              "      border-bottom-color: var(--fill-color);\n",
              "    }\n",
              "  }\n",
              "</style>\n",
              "\n",
              "  <script>\n",
              "    async function quickchart(key) {\n",
              "      const quickchartButtonEl =\n",
              "        document.querySelector('#' + key + ' button');\n",
              "      quickchartButtonEl.disabled = true;  // To prevent multiple clicks.\n",
              "      quickchartButtonEl.classList.add('colab-df-spinner');\n",
              "      try {\n",
              "        const charts = await google.colab.kernel.invokeFunction(\n",
              "            'suggestCharts', [key], {});\n",
              "      } catch (error) {\n",
              "        console.error('Error during call to suggestCharts:', error);\n",
              "      }\n",
              "      quickchartButtonEl.classList.remove('colab-df-spinner');\n",
              "      quickchartButtonEl.classList.add('colab-df-quickchart-complete');\n",
              "    }\n",
              "    (() => {\n",
              "      let quickchartButtonEl =\n",
              "        document.querySelector('#df-a490a992-417b-4c9b-b22a-1c655baffb4f button');\n",
              "      quickchartButtonEl.style.display =\n",
              "        google.colab.kernel.accessAllowed ? 'block' : 'none';\n",
              "    })();\n",
              "  </script>\n",
              "</div>\n",
              "\n",
              "  <div id=\"id_b23d20ac-8420-4a9f-8dfd-08ba7c366465\">\n",
              "    <style>\n",
              "      .colab-df-generate {\n",
              "        background-color: #E8F0FE;\n",
              "        border: none;\n",
              "        border-radius: 50%;\n",
              "        cursor: pointer;\n",
              "        display: none;\n",
              "        fill: #1967D2;\n",
              "        height: 32px;\n",
              "        padding: 0 0 0 0;\n",
              "        width: 32px;\n",
              "      }\n",
              "\n",
              "      .colab-df-generate:hover {\n",
              "        background-color: #E2EBFA;\n",
              "        box-shadow: 0px 1px 2px rgba(60, 64, 67, 0.3), 0px 1px 3px 1px rgba(60, 64, 67, 0.15);\n",
              "        fill: #174EA6;\n",
              "      }\n",
              "\n",
              "      [theme=dark] .colab-df-generate {\n",
              "        background-color: #3B4455;\n",
              "        fill: #D2E3FC;\n",
              "      }\n",
              "\n",
              "      [theme=dark] .colab-df-generate:hover {\n",
              "        background-color: #434B5C;\n",
              "        box-shadow: 0px 1px 3px 1px rgba(0, 0, 0, 0.15);\n",
              "        filter: drop-shadow(0px 1px 2px rgba(0, 0, 0, 0.3));\n",
              "        fill: #FFFFFF;\n",
              "      }\n",
              "    </style>\n",
              "    <button class=\"colab-df-generate\" onclick=\"generateWithVariable('data')\"\n",
              "            title=\"Generate code using this dataframe.\"\n",
              "            style=\"display:none;\">\n",
              "\n",
              "  <svg xmlns=\"http://www.w3.org/2000/svg\" height=\"24px\"viewBox=\"0 0 24 24\"\n",
              "       width=\"24px\">\n",
              "    <path d=\"M7,19H8.4L18.45,9,17,7.55,7,17.6ZM5,21V16.75L18.45,3.32a2,2,0,0,1,2.83,0l1.4,1.43a1.91,1.91,0,0,1,.58,1.4,1.91,1.91,0,0,1-.58,1.4L9.25,21ZM18.45,9,17,7.55Zm-12,3A5.31,5.31,0,0,0,4.9,8.1,5.31,5.31,0,0,0,1,6.5,5.31,5.31,0,0,0,4.9,4.9,5.31,5.31,0,0,0,6.5,1,5.31,5.31,0,0,0,8.1,4.9,5.31,5.31,0,0,0,12,6.5,5.46,5.46,0,0,0,6.5,12Z\"/>\n",
              "  </svg>\n",
              "    </button>\n",
              "    <script>\n",
              "      (() => {\n",
              "      const buttonEl =\n",
              "        document.querySelector('#id_b23d20ac-8420-4a9f-8dfd-08ba7c366465 button.colab-df-generate');\n",
              "      buttonEl.style.display =\n",
              "        google.colab.kernel.accessAllowed ? 'block' : 'none';\n",
              "\n",
              "      buttonEl.onclick = () => {\n",
              "        google.colab.notebook.generateWithVariable('data');\n",
              "      }\n",
              "      })();\n",
              "    </script>\n",
              "  </div>\n",
              "\n",
              "    </div>\n",
              "  </div>\n"
            ],
            "application/vnd.google.colaboratory.intrinsic+json": {
              "type": "dataframe",
              "variable_name": "data",
              "summary": "{\n  \"name\": \"data\",\n  \"rows\": 17520,\n  \"fields\": [\n    {\n      \"column\": \"date\",\n      \"properties\": {\n        \"dtype\": \"date\",\n        \"min\": \"2009-01-01 00:00:00\",\n        \"max\": \"2011-01-01 00:00:00\",\n        \"num_unique_values\": 731,\n        \"samples\": [\n          \"2010-12-05 00:00:00\",\n          \"2009-02-03 00:00:00\",\n          \"2009-10-28 00:00:00\"\n        ],\n        \"semantic_type\": \"\",\n        \"description\": \"\"\n      }\n    },\n    {\n      \"column\": \"time\",\n      \"properties\": {\n        \"dtype\": \"category\",\n        \"num_unique_values\": 24,\n        \"samples\": [\n          \"09:00:00\",\n          \"17:00:00\",\n          \"01:00:00\"\n        ],\n        \"semantic_type\": \"\",\n        \"description\": \"\"\n      }\n    },\n    {\n      \"column\": \"temperature\",\n      \"properties\": {\n        \"dtype\": \"number\",\n        \"std\": 2,\n        \"min\": 20,\n        \"max\": 36,\n        \"num_unique_values\": 17,\n        \"samples\": [\n          24,\n          25,\n          27\n        ],\n        \"semantic_type\": \"\",\n        \"description\": \"\"\n      }\n    },\n    {\n      \"column\": \"humidity\",\n      \"properties\": {\n        \"dtype\": \"category\",\n        \"num_unique_values\": 28,\n        \"samples\": [\n          \"78\\u00a0\",\n          \"67\\u00a0\",\n          \"66\\u00a0\"\n        ],\n        \"semantic_type\": \"\",\n        \"description\": \"\"\n      }\n    },\n    {\n      \"column\": \"holiday\",\n      \"properties\": {\n        \"dtype\": \"number\",\n        \"std\": 0,\n        \"min\": 0,\n        \"max\": 1,\n        \"num_unique_values\": 2,\n        \"samples\": [\n          1,\n          0\n        ],\n        \"semantic_type\": \"\",\n        \"description\": \"\"\n      }\n    },\n    {\n      \"column\": \"load\",\n      \"properties\": {\n        \"dtype\": \"number\",\n        \"std\": 14212,\n        \"min\": 2764,\n        \"max\": 75447,\n        \"num_unique_values\": 14156,\n        \"samples\": [\n          69332,\n          63865\n        ],\n        \"semantic_type\": \"\",\n        \"description\": \"\"\n      }\n    }\n  ]\n}"
            }
          },
          "metadata": {},
          "execution_count": 5
        }
      ]
    },
    {
      "cell_type": "markdown",
      "source": [
        "# Plot graph\n"
      ],
      "metadata": {
        "id": "oqzO6Mz_MLMm"
      }
    },
    {
      "cell_type": "code",
      "execution_count": null,
      "metadata": {
        "id": "34r1hi7Hbia8"
      },
      "outputs": [],
      "source": [
        "df = pd.DataFrame(data)\n",
        "data_sample = df.sample(n=30).sort_values(by='date')\n"
      ]
    },
    {
      "cell_type": "code",
      "source": [
        "data_sample['datetime'] = pd.to_datetime(data_sample['date'].astype(str) + ' ' + data_sample['time'].astype(str))\n"
      ],
      "metadata": {
        "id": "ug6DEoXGNnUq"
      },
      "execution_count": null,
      "outputs": []
    },
    {
      "cell_type": "code",
      "source": [
        "plt_data_sample = data_sample.plot(x='datetime', y='load',figsize=(35,7))\n",
        "plt_data_sample.set_title(\"Load over date and time\")\n",
        "plt_data_sample.set_xlabel(\"date and time\")\n",
        "plt_data_sample.set_ylabel(\"load\")\n"
      ],
      "metadata": {
        "colab": {
          "base_uri": "https://localhost:8080/"
        },
        "id": "nDa9N4XRNo3M",
        "outputId": "04afec85-fec8-42b1-a7b4-bb59e9673e08"
      },
      "execution_count": null,
      "outputs": [
        {
          "output_type": "execute_result",
          "data": {
            "text/plain": [
              "Text(0, 0.5, 'load')"
            ]
          },
          "metadata": {},
          "execution_count": 8
        },
        {
          "output_type": "display_data",
          "data": {
            "text/plain": [
              "<Figure size 3500x700 with 1 Axes>"
            ],
            "image/png": "[encoded data removed]"
          },
          "metadata": {}
        }
      ]
    },
    {
      "cell_type": "markdown",
      "source": [
        "# Split data for training, validation and testing"
      ],
      "metadata": {
        "id": "E26_bETvMZ24"
      }
    },
    {
      "cell_type": "code",
      "execution_count": null,
      "metadata": {
        "id": "Bjz4R1BaSZpi"
      },
      "outputs": [],
      "source": [
        "from sklearn.model_selection import train_test_split\n",
        "\n",
        "x, y = df.iloc[: , :-1], df.iloc[: , -1]"
      ]
    },
    {
      "cell_type": "code",
      "source": [
        "x_train_val, x_test, y_train_val, y_test = train_test_split(x, y, test_size=0.2, shuffle=False)\n",
        "x_train, x_val, y_train, y_val = train_test_split(x_train_val, y_train_val, test_size=0.2, shuffle=False)"
      ],
      "metadata": {
        "id": "mGQbZ67cNR43"
      },
      "execution_count": null,
      "outputs": []
    },
    {
      "cell_type": "code",
      "source": [
        "x_train, y_train, x_val, y_val, x_test, y_test"
      ],
      "metadata": {
        "colab": {
          "base_uri": "https://localhost:8080/"
        },
        "id": "g-inK6oNNUpZ",
        "outputId": "363f8f2e-fd2e-4eae-e337-4b0e90010a0b"
      },
      "execution_count": null,
      "outputs": [
        {
          "output_type": "execute_result",
          "data": {
            "text/plain": [
              "(            date      time  temperature humidity  holiday\n",
              " 0     2009-01-01  01:00:00           24      100        0\n",
              " 1     2009-01-01  02:00:00           24      100        0\n",
              " 2     2009-01-01  03:00:00           24      94         0\n",
              " 3     2009-01-01  04:00:00           24      94         0\n",
              " 4     2009-01-01  05:00:00           24      94         0\n",
              " ...          ...       ...          ...      ...      ...\n",
              " 11207 2010-04-13  00:00:00           26      94         0\n",
              " 11208 2010-04-13  01:00:00           26      94         0\n",
              " 11209 2010-04-13  02:00:00           26      94         0\n",
              " 11210 2010-04-13  03:00:00           26      94         0\n",
              " 11211 2010-04-13  04:00:00           26      94         0\n",
              " \n",
              " [11212 rows x 5 columns],\n",
              " 0        30360\n",
              " 1        29155\n",
              " 2        28086\n",
              " 3        28031\n",
              " 4        27730\n",
              "          ...  \n",
              " 11207    30538\n",
              " 11208    29681\n",
              " 11209    29479\n",
              " 11210    29101\n",
              " 11211    29446\n",
              " Name: load, Length: 11212, dtype: int64,\n",
              "             date      time  temperature humidity  holiday\n",
              " 11212 2010-04-13  05:00:00           25      100        0\n",
              " 11213 2010-04-13  06:00:00           25      100        0\n",
              " 11214 2010-04-13  07:00:00           25      100        0\n",
              " 11215 2010-04-13  08:00:00           26      94         0\n",
              " 11216 2010-04-13  09:00:00           28      84         0\n",
              " ...          ...       ...          ...      ...      ...\n",
              " 14011 2010-08-07  20:00:00           27      84         1\n",
              " 14012 2010-08-07  21:00:00           26      89         1\n",
              " 14013 2010-08-07  22:00:00           26      89         1\n",
              " 14014 2010-08-07  23:00:00           25      94         1\n",
              " 14015 2010-08-08  00:00:00           25      94         1\n",
              " \n",
              " [2804 rows x 5 columns],\n",
              " 11212    31140\n",
              " 11213    35330\n",
              " 11214    45537\n",
              " 11215    56297\n",
              " 11216    67003\n",
              "          ...  \n",
              " 14011    49183\n",
              " 14012    38310\n",
              " 14013    34915\n",
              " 14014    32555\n",
              " 14015    31133\n",
              " Name: load, Length: 2804, dtype: int64,\n",
              "             date      time  temperature humidity  holiday\n",
              " 14016 2010-08-08  01:00:00           25      94         1\n",
              " 14017 2010-08-08  02:00:00           24      100        1\n",
              " 14018 2010-08-08  03:00:00           24      100        1\n",
              " 14019 2010-08-08  04:00:00           24      100        1\n",
              " 14020 2010-08-08  05:00:00           24      94         1\n",
              " ...          ...       ...          ...      ...      ...\n",
              " 17515 2010-12-31  20:00:00           26      89         0\n",
              " 17516 2010-12-31  21:00:00           26      83         0\n",
              " 17517 2010-12-31  22:00:00           25      89         0\n",
              " 17518 2010-12-31  23:00:00           24      94         0\n",
              " 17519 2011-01-01  00:00:00           24      94         1\n",
              " \n",
              " [3504 rows x 5 columns],\n",
              " 14016    29950\n",
              " 14017    28878\n",
              " 14018    27539\n",
              " 14019    27450\n",
              " 14020    29122\n",
              "          ...  \n",
              " 17515    53819\n",
              " 17516    51543\n",
              " 17517    44961\n",
              " 17518    38484\n",
              " 17519    36729\n",
              " Name: load, Length: 3504, dtype: int64)"
            ]
          },
          "metadata": {},
          "execution_count": 11
        }
      ]
    },
    {
      "cell_type": "markdown",
      "source": [
        "# New Section"
      ],
      "metadata": {
        "id": "Ogq29ZHmPEM4"
      }
    },
    {
      "cell_type": "code",
      "source": [
        "from tensorflow.keras.models import Sequential\n",
        "from tensorflow.keras.layers import Dense, LSTM, Dropout\n",
        "import numpy as np\n",
        "\n",
        "x_train.shape[0]"
      ],
      "metadata": {
        "colab": {
          "base_uri": "https://localhost:8080/"
        },
        "id": "SML2G9euPC1j",
        "outputId": "9a6a9a60-a939-4d4c-f1b7-d3449ce9fb2f"
      },
      "execution_count": null,
      "outputs": [
        {
          "output_type": "execute_result",
          "data": {
            "text/plain": [
              "11212"
            ]
          },
          "metadata": {},
          "execution_count": 12
        }
      ]
    },
    {
      "cell_type": "code",
      "source": [
        "\n",
        "model = Sequential()\n",
        "model.add(LSTM(64, input_shape=(1, 1)))\n",
        "model.add(Dense(3))\n",
        "model.compile(loss='mean_squared_error', optimizer='adam')\n",
        "model.\n"
      ],
      "metadata": {
        "id": "KWH6xksuT-wD"
      },
      "execution_count": null,
      "outputs": []
    }
  ],
  "metadata": {
    "accelerator": "GPU",
    "colab": {
      "gpuType": "T4",
      "provenance": [],
      "collapsed_sections": [
        "giAtiZJcK5ud",
        "etpBrnofMEfh",
        "oqzO6Mz_MLMm"
      ],
      "authorship_tag": "ABX9TyP+8gWT7FPthlEdHcMSFIZ0",
      "include_colab_link": true
    },
    "kernelspec": {
      "display_name": "Python 3",
      "name": "python3"
    },
    "language_info": {
      "name": "python"
    }
  },
  "nbformat": 4,
  "nbformat_minor": 0
}